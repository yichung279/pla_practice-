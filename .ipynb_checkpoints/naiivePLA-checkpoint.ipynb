{
 "cells": [
  {
   "cell_type": "code",
   "execution_count": 88,
   "metadata": {},
   "outputs": [],
   "source": [
    "import matplotlib.pyplot as plt\n",
    "import random\n",
    "%matplotlib inline"
   ]
  },
  {
   "cell_type": "code",
   "execution_count": 89,
   "metadata": {},
   "outputs": [],
   "source": [
    "def sign(wx):\n",
    "    if wx > 0:\n",
    "        return 1 \n",
    "    elif wx == 0:\n",
    "        return 0\n",
    "    else:\n",
    "        return -1\n",
    "\n",
    "def sigma_dot(a, b):\n",
    "    if len(a) != len(b):\n",
    "        return 0\n",
    "    ab = 0\n",
    "    for i in range(len(a)):\n",
    "        ab += a[i] * b[i]\n",
    "    return ab\n",
    "\n",
    "def h_function(w, x):\n",
    "    return sign(sigma_dot(w, x))\n",
    "\n",
    "def update_w(w, x, y):\n",
    "    for i in range(len(w)):\n",
    "        w[i] += y * x[i]\n",
    "        \n",
    "    return w\n"
   ]
  },
  {
   "cell_type": "code",
   "execution_count": 90,
   "metadata": {},
   "outputs": [],
   "source": [
    "def pla(data):\n",
    "    \n",
    "    # add x0\n",
    "    dataset = [(x + (1,)  , y) for x, y in data]\n",
    "    \n",
    "    w = list(dataset[0][0])\n",
    "    \n",
    "    while True:\n",
    "        print(w)\n",
    "        no_error = True\n",
    "        for point in dataset:\n",
    "            xn = point[0]\n",
    "            yn = point[1]\n",
    "            if h_function(w, xn) * yn == -1:\n",
    "                w = update_w(w, xn, yn)\n",
    "                no_error = False\n",
    "                # what if w == [0.0, 0.0, 0]:\n",
    "                \n",
    "        if no_error :\n",
    "            break\n",
    "    return w\n"
   ]
  },
  {
   "cell_type": "code",
   "execution_count": 91,
   "metadata": {},
   "outputs": [],
   "source": [
    "def gen_data(wt, num):\n",
    "    data = []\n",
    "    for i in range(num):\n",
    "        point = (random.uniform(-10,10),random.uniform(-10,10))\n",
    "        point_x0 = point + (1,)\n",
    "        label = sign(sigma_dot(wt, point_x0))\n",
    "        data.append((point, label))\n",
    "    return data\n",
    "        "
   ]
  },
  {
   "cell_type": "code",
   "execution_count": 99,
   "metadata": {},
   "outputs": [
    {
     "name": "stdout",
     "output_type": "stream",
     "text": [
      "[3.8635746440241174, 2.249006607170564, 1]\n"
     ]
    },
    {
     "data": {
      "image/png": "[encoded data removed]",
      "text/plain": [
       "<matplotlib.figure.Figure at 0x7f1a3caee390>"
      ]
     },
     "metadata": {},
     "output_type": "display_data"
    }
   ],
   "source": [
    "if __name__ == '__main__':\n",
    "    num = 100\n",
    "    wt = [1.73, 1, 1]\n",
    "    dataset = gen_data(wt, num)\n",
    "    \n",
    "    w = pla(dataset) \n",
    "    \n",
    "    xo = []\n",
    "    xx = []\n",
    "    yo = []\n",
    "    yx = []\n",
    "    \n",
    "    for data in dataset:\n",
    "        if data[1] == 1:\n",
    "            xo.append(data[0][0])\n",
    "            yo.append(data[0][1])\n",
    "        elif data[1] == -1:\n",
    "            xx.append(data[0][0])\n",
    "            yx.append(data[0][1])\n",
    "    \n",
    "    plt.scatter(xo, yo)\n",
    "    plt.scatter(xx, yx)\n",
    "    \n",
    "    x = [i - 10 for i in range(20)]\n",
    "    y = [(w[0] * i + w[2]) / (-1 * w[1]) for i in x]\n",
    "    plt.plot(x, y)\n",
    "\n",
    "    \n",
    "    plt.axis([-10,10,-10,10])\n",
    "    plt.show()"
   ]
  },
  {
   "cell_type": "code",
   "execution_count": null,
   "metadata": {},
   "outputs": [],
   "source": []
  },
  {
   "cell_type": "code",
   "execution_count": null,
   "metadata": {},
   "outputs": [],
   "source": []
  },
  {
   "cell_type": "code",
   "execution_count": null,
   "metadata": {},
   "outputs": [],
   "source": []
  }
 ],
 "metadata": {
  "kernelspec": {
   "display_name": "Python 3",
   "language": "python",
   "name": "python3"
  },
  "language_info": {
   "codemirror_mode": {
    "name": "ipython",
    "version": 3
   },
   "file_extension": ".py",
   "mimetype": "text/x-python",
   "name": "python",
   "nbconvert_exporter": "python",
   "pygments_lexer": "ipython3",
   "version": "3.5.2"
  }
 },
 "nbformat": 4,
 "nbformat_minor": 2
}
