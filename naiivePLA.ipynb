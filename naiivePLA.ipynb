{
 "cells": [
  {
   "cell_type": "code",
   "execution_count": 104,
   "metadata": {},
   "outputs": [],
   "source": [
    "import matplotlib.pyplot as plt\n",
    "%matplotlib inline"
   ]
  },
  {
   "cell_type": "code",
   "execution_count": 105,
   "metadata": {},
   "outputs": [],
   "source": [
    "# global\n",
    "dataset = [\n",
    "    \n",
    "    (( 1, 1),  1),\n",
    "    (( 1, 2),  1),\n",
    "    (( 1, 3),  1),\n",
    "    (( 1, 4),  1),\n",
    "    (( 1, 5),  1),\n",
    "    (( 1, 6),  1),\n",
    "    (( 1, 7),  1),\n",
    "    (( 1, 8),  1),\n",
    "    \n",
    "    \n",
    "    ((-1, 1), -1),\n",
    "    ((-1, 2), -1),\n",
    "    ((-1, 3), -1),\n",
    "    ((-1, 4), -1),\n",
    "    ((-1, 5), -1),\n",
    "    ((-1, 6), -1),\n",
    "    ((-1, 7), -1),\n",
    "    ((-1, 8), -1),\n",
    "    ]"
   ]
  },
  {
   "cell_type": "code",
   "execution_count": 106,
   "metadata": {},
   "outputs": [],
   "source": [
    "def sign(wx):\n",
    "    if wx > 0:\n",
    "        return 1 \n",
    "    elif wx == 0:\n",
    "        return 0\n",
    "    else:\n",
    "        return -1\n",
    "\n",
    "def sigma_dot(a, b):\n",
    "    if len(a) != len(b):\n",
    "        return 0\n",
    "    ab = 0\n",
    "    for i in range(len(a)):\n",
    "        ab += a[i] * b[i]\n",
    "    return ab\n",
    "\n",
    "def h_function(w, x):\n",
    "    return sign(sigma_dot(w, x))\n",
    "\n",
    "def update_w(w, x, y):\n",
    "    for i in range(len(w)):\n",
    "        w[i] += y * x[i]\n",
    "        \n",
    "    return w\n"
   ]
  },
  {
   "cell_type": "code",
   "execution_count": 107,
   "metadata": {},
   "outputs": [],
   "source": [
    "def pla(data):\n",
    "    \n",
    "    # add x0\n",
    "    dataset = [(x + (1,)  , y) for x, y in data]\n",
    "    \n",
    "    w = list(dataset[0][0])\n",
    "    \n",
    "    while True:\n",
    "        print(w)\n",
    "        no_error = True\n",
    "        for point in dataset:\n",
    "            xn = point[0]\n",
    "            yn = point[1]\n",
    "            print(h_function(w, xn), yn)\n",
    "            if h_function(w, xn) * yn == -1:\n",
    "                w = update_w(w, xn, yn)\n",
    "                no_error = False\n",
    "                break\n",
    "        if no_error:\n",
    "            break\n",
    "    return w\n"
   ]
  },
  {
   "cell_type": "code",
   "execution_count": 108,
   "metadata": {},
   "outputs": [
    {
     "name": "stdout",
     "output_type": "stream",
     "text": [
      "[((1, 1, 1), 1), ((1, 2, 1), 1), ((1, 3, 1), 1), ((1, 4, 1), 1), ((1, 5, 1), 1), ((1, 6, 1), 1), ((1, 7, 1), 1), ((1, 8, 1), 1), ((-1, 1, 1), -1), ((-1, 2, 1), -1), ((-1, 3, 1), -1), ((-1, 4, 1), -1), ((-1, 5, 1), -1), ((-1, 6, 1), -1), ((-1, 7, 1), -1), ((-1, 8, 1), -1)]\n",
      "[1, 1, 1]\n",
      "1 1\n",
      "1 1\n",
      "1 1\n",
      "1 1\n",
      "1 1\n",
      "1 1\n",
      "1 1\n",
      "1 1\n",
      "1 -1\n",
      "[2, 0, 0]\n",
      "1 1\n",
      "1 1\n",
      "1 1\n",
      "1 1\n",
      "1 1\n",
      "1 1\n",
      "1 1\n",
      "1 1\n",
      "-1 -1\n",
      "-1 -1\n",
      "-1 -1\n",
      "-1 -1\n",
      "-1 -1\n",
      "-1 -1\n",
      "-1 -1\n",
      "-1 -1\n"
     ]
    },
    {
     "data": {
      "image/png": "[encoded data removed]",
      "text/plain": [
       "<matplotlib.figure.Figure at 0x7f57ede43dd8>"
      ]
     },
     "metadata": {},
     "output_type": "display_data"
    }
   ],
   "source": [
    "if __name__ == '__main__':\n",
    "    w = pla(dataset) \n",
    "    \n",
    "    xo = [data[0][0]for data in dataset[:8]]\n",
    "    yo = [data[0][1]for data in dataset[:8]]\n",
    "    plt.scatter(xo, yo)\n",
    "    \n",
    "    xx = [data[0][0]for data in dataset[8:]]\n",
    "    yx = [data[0][1]for data in dataset[8:]]\n",
    "    plt.scatter(xx, yx)\n",
    "    \n",
    "    y = [i for i in range(10)]\n",
    "    line = [(w[1] * i + w[2]) / -1 * w[0] for i in y]\n",
    "    plt.plot(line, y)\n",
    "\n",
    "    plt.show()"
   ]
  },
  {
   "cell_type": "code",
   "execution_count": null,
   "metadata": {},
   "outputs": [],
   "source": []
  },
  {
   "cell_type": "code",
   "execution_count": null,
   "metadata": {},
   "outputs": [],
   "source": []
  }
 ],
 "metadata": {
  "kernelspec": {
   "display_name": "Python 3",
   "language": "python",
   "name": "python3"
  },
  "language_info": {
   "codemirror_mode": {
    "name": "ipython",
    "version": 3
   },
   "file_extension": ".py",
   "mimetype": "text/x-python",
   "name": "python",
   "nbconvert_exporter": "python",
   "pygments_lexer": "ipython3",
   "version": "3.5.2"
  }
 },
 "nbformat": 4,
 "nbformat_minor": 2
}
